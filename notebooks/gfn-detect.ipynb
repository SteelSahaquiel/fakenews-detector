{
 "cells": [
  {
   "cell_type": "code",
   "execution_count": 1,
   "metadata": {},
   "outputs": [],
   "source": [
    "import pandas as pd\n",
    "import matplotlib.pyplot as plt\n",
    "import spacy\n",
    "import random\n",
    "\n",
    "%config InlineBackend.figure_format = 'retina'\n",
    "\n",
    "nlp = spacy.load('el_core_news_md')\n",
    "df = pd.read_csv('../data/greek_fake_news.csv')\n",
    "df.replace(to_replace='[\\n\\r\\t]', value=' ', regex=True, inplace=True)"
   ]
  },
  {
   "cell_type": "code",
   "execution_count": 2,
   "metadata": {},
   "outputs": [],
   "source": [
    "def load_data(train_data, limit=0, split=0.8):\n",
    "    random.shuffle(train_data)\n",
    "    train_data = train_data[-limit:]\n",
    "    texts, labels = zip(*train_data)\n",
    "    cats = [{\"REAL\": not bool(y), \"FAKE\": bool(y)} for y in labels]\n",
    "    split = int(len(train_data) * split)\n",
    "    \n",
    "    return (texts[:split], cats[:split]), (texts[split:], cats[split:])\n",
    "\n",
    "def evaluate(tokenizer, textcat, texts, cats):\n",
    "    docs = (tokenizer(text) for text in texts)\n",
    "    tp = 0.0  # True positives\n",
    "    fp = 1e-8  # False positives\n",
    "    fn = 1e-8  # False negatives\n",
    "    tn = 0.0  # True negatives\n",
    "    for i, doc in enumerate(textcat.pipe(docs)):\n",
    "        gold = cats[i]\n",
    "        for label, score in doc.cats.items():\n",
    "            if label not in gold:\n",
    "                continue\n",
    "            if label == \"FAKE\":\n",
    "                continue\n",
    "            if score >= 0.5 and gold[label] >= 0.5:\n",
    "                tp += 1.0\n",
    "            elif score >= 0.5 and gold[label] < 0.5:\n",
    "                fp += 1.0\n",
    "            elif score < 0.5 and gold[label] < 0.5:\n",
    "                tn += 1\n",
    "            elif score < 0.5 and gold[label] >= 0.5:\n",
    "                fn += 1\n",
    "    precision = tp / (tp + fp)\n",
    "    recall = tp / (tp + fn)\n",
    "    if (precision + recall) == 0:\n",
    "        f_score = 0.0\n",
    "    else:\n",
    "        f_score = 2 * (precision * recall) / (precision + recall)\n",
    "    return {\"textcat_p\": precision, \"textcat_r\": recall, \"textcat_f\": f_score}\n"
   ]
  },
  {
   "cell_type": "code",
   "execution_count": 3,
   "metadata": {},
   "outputs": [
    {
     "name": "stdout",
     "output_type": "stream",
     "text": [
      "<class 'pandas.core.frame.DataFrame'>\n",
      "RangeIndex: 100 entries, 0 to 99\n",
      "Data columns (total 5 columns):\n",
      " #   Column   Non-Null Count  Dtype \n",
      "---  ------   --------------  ----- \n",
      " 0   title    100 non-null    object\n",
      " 1   text     100 non-null    object\n",
      " 2   source   100 non-null    object\n",
      " 3   url      100 non-null    object\n",
      " 4   is_fake  100 non-null    int64 \n",
      "dtypes: int64(1), object(4)\n",
      "memory usage: 4.0+ KB\n"
     ]
    }
   ],
   "source": [
    "df.info()"
   ]
  },
  {
   "cell_type": "code",
   "execution_count": 4,
   "metadata": {},
   "outputs": [
    {
     "data": {
      "text/plain": [
       "['tagger', 'parser', 'ner', 'textcat']"
      ]
     },
     "execution_count": 4,
     "metadata": {},
     "output_type": "execute_result"
    }
   ],
   "source": [
    "textcat=nlp.create_pipe( \"textcat\", config={\"exclusive_classes\": True, \"architecture\": \"simple_cnn\"})\n",
    "nlp.add_pipe(textcat, last=True)\n",
    "nlp.pipe_names\n",
    "\n"
   ]
  },
  {
   "cell_type": "code",
   "execution_count": 5,
   "metadata": {},
   "outputs": [
    {
     "data": {
      "text/plain": [
       "1"
      ]
     },
     "execution_count": 5,
     "metadata": {},
     "output_type": "execute_result"
    }
   ],
   "source": [
    "textcat.add_label(\"REAL\")\n",
    "textcat.add_label(\"FAKE\")"
   ]
  },
  {
   "cell_type": "code",
   "execution_count": 6,
   "metadata": {},
   "outputs": [],
   "source": [
    "df['tuples'] = df.apply(lambda row: (row['text'], row['is_fake']), axis=1)\n",
    "train = df['tuples'].tolist()"
   ]
  },
  {
   "cell_type": "code",
   "execution_count": 7,
   "metadata": {},
   "outputs": [],
   "source": [
    "(train_texts, train_cats), (dev_texts, dev_cats) = load_data(train, split=0.8)\n",
    "\n",
    "train_data = list(zip(train_texts,[{'cats': cats} for cats in train_cats]))\n"
   ]
  },
  {
   "cell_type": "code",
   "execution_count": 8,
   "metadata": {},
   "outputs": [
    {
     "name": "stdout",
     "output_type": "stream",
     "text": [
      "Training the model...\n",
      "LOSS \t  P  \t  R  \t  F  \n",
      "0.629\t0.667\t1.000\t0.800\n",
      "0.427\t0.800\t1.000\t0.889\n",
      "0.176\t0.800\t1.000\t0.889\n",
      "0.155\t0.800\t1.000\t0.889\n",
      "0.116\t0.800\t1.000\t0.889\n",
      "0.092\t0.786\t0.917\t0.846\n",
      "0.072\t0.800\t1.000\t0.889\n",
      "0.032\t0.800\t1.000\t0.889\n",
      "0.040\t0.857\t1.000\t0.923\n",
      "0.024\t0.857\t1.000\t0.923\n",
      "0.131\t0.923\t1.000\t0.960\n",
      "0.119\t0.857\t1.000\t0.923\n",
      "0.057\t0.857\t1.000\t0.923\n",
      "0.067\t0.800\t1.000\t0.889\n",
      "0.000\t0.923\t1.000\t0.960\n",
      "0.000\t0.857\t1.000\t0.923\n",
      "0.000\t0.857\t1.000\t0.923\n",
      "0.000\t0.857\t1.000\t0.923\n",
      "0.000\t0.857\t1.000\t0.923\n",
      "0.000\t0.857\t1.000\t0.923\n"
     ]
    }
   ],
   "source": [
    "from spacy.util import minibatch, compounding\n",
    "\n",
    "n_iter = 20\n",
    "# Disabling other components\n",
    "other_pipes = [pipe for pipe in nlp.pipe_names if pipe != 'textcat']\n",
    "with nlp.disable_pipes(*other_pipes):  # only train textcat\n",
    "    optimizer = nlp.begin_training()\n",
    "\n",
    "    print(\"Training the model...\")\n",
    "    print('{:^5}\\t{:^5}\\t{:^5}\\t{:^5}'.format('LOSS', 'P', 'R', 'F'))\n",
    "\n",
    "    # Performing training\n",
    "    for i in range(n_iter):\n",
    "        losses = {}\n",
    "        batches = minibatch(train_data, size=compounding(4., 32., 1.001))\n",
    "        for batch in batches:\n",
    "            texts, annotations = zip(*batch)\n",
    "            nlp.update(texts, annotations, sgd=optimizer, drop=0.2,\n",
    "                       losses=losses)\n",
    "\n",
    "      # Calling the evaluate() function and printing the scores\n",
    "        with textcat.model.use_params(optimizer.averages):\n",
    "            scores = evaluate(nlp.tokenizer, textcat, dev_texts, dev_cats)\n",
    "        print('{0:.3f}\\t{1:.3f}\\t{2:.3f}\\t{3:.3f}'  \n",
    "              .format(losses['textcat'], scores['textcat_p'],\n",
    "                      scores['textcat_r'], scores['textcat_f']))"
   ]
  },
  {
   "cell_type": "code",
   "execution_count": 23,
   "metadata": {},
   "outputs": [
    {
     "data": {
      "text/plain": [
       "{'REAL': 0.0027723785024136305, 'FAKE': 0.9972276091575623}"
      ]
     },
     "execution_count": 23,
     "metadata": {},
     "output_type": "execute_result"
    }
   ],
   "source": [
    "test = '''\n",
    "30 Αυγούστου 2019. Ένα μυστηριώδες διαστημικό σκάφος περιστρέφεται γύρω από τη Γη τις τελευταίες 720 ημέρες. Τι ακριβώς είναι και βρίσκεται σε τροχιά για περίπου δύο χρόνια;\n",
    "\n",
    "Αυτή είναι η πέμπτη αποστολή του διαστημικού αεροσκάφους X-37B, ενός στρατιωτικού σκάφους χωρίς αστροναύτες που κινείται με ηλιακή ενέργεια. \n",
    "\n",
    "Η αποστολή του Τροχιακού Δοκιμαστικού Οχήματος (Orbital Test Vehicle 5 – OTV-5) ξεκίνησε στις 7 Σεπτεμβρίου 2017 με τη βοήθεια ενός πυραύλου SpaceX Falcon 9.\n",
    "Στην τέταρτη αποστολή το OTV-4, παρέμεινε σε τροχιά για 717 ημέρες, 20 ώρες και 42 λεπτά, τα οποία πλέον έχει ξεπεράσει το OTV-5, χωρίς λεπτομέρειες σχετικά με το πότε η αποστολή του μπορεί να λήξει.\n",
    "\n",
    "Οι στόχοι της αποστολής του διαστημικού αεροσκάφους – παρόμοιο στο σχεδιασμό με τα διαστημικά λεωφορεία της NASA – παρέμειναν ένα μυστικό που φυλάσσεται πολύ καλά. Η Πολεμική Αεροπορία είναι πολύ φειδωλή στις δηλώσεις της, αφήνοντας τους ανθρώπους να υποθέσουν ότι είναι κάποιο είδος κατασκοπευτικού δορυφόρου, ενώ πολλές άλλες θεωρίες εμφανίζονται\n",
    "\n",
    "Όταν το σκάφος ξεκίνησε, διάφοροι συνωμοσιογράφοι πρότειναν ότι θα μπορούσε να είναι ένα είδος “διαστημικού βομβιστή“, πολύ πριν ο Trump δημιουργήσει την λεγόμενη Space Force. Η θεωρία αυτή απορρίφθηκε πολύ γρήγορα από ειδικούς, οι οποίοι επεσήμαναν πως η αλλαγή του τροχιακού σκάφους ενός διαστημικού οχήματος απαιτεί πολύ ώθηση που θα τελείωνε γρήγορα την περιορισμένη παροχή καυσίμων του\n",
    "\n",
    "Μια άλλη θεωρία από το περιοδικό Spaceflight είναι ότι πρόκειται για ένα κατασκοπευτικό σκάφος:\n",
    "\n",
    "“Η επιτήρηση του διαστήματος από το διάστημα, είναι ένα ολοκαίνουργιο παιχνίδι οπότε το X-37B μπορεί να χρησιμοποιείται για να παρακολουθεί στενά τον εκκολαπτόμενο διαστημικό σταθμό της Κίνας”, δήλωσε ο διευθυντής του Spaceflight, Δρ Ο David Baker στο BBC News το 2012, αν και αυτό θεωρήθηκε απίθανο, βάσει της τροχιάς του.\n",
    "\n",
    "Αλλά η επίσημη εξήγηση της Πολεμικής Αεροπορίας δεν δίνει πάρα πολλά:\n",
    "\n",
    "“Το τροχιακό όχημα X-37B, ή το OTV, είναι ένα πειραματικό πρόγραμμα δοκιμών για την επίδειξη τεχνολογιών για μια αξιόπιστη, επαναχρησιμοποιούμενη, μη επανδρωμένη πλατφόρμα δοκιμής διαστήματος, για την Πολεμική Αεροπορία των ΗΠΑ”, δήλωσε η Πολεμική Αεροπορία.\n",
    "\n",
    "«Οι πρωταρχικοί στόχοι του X-37B είναι διπλοί: επαναχρησιμοποιήσιμες τεχνολογίες διαστημικών οχημάτων για το μέλλον της Αμερικής στο διάστημα και πειράματα λειτουργίας που μπορούν να επιστραφούν και να εξερευνηθούν στη Γη.\n",
    "\n",
    "The #X37B #OTV4 is the newest and most advanced re-entry spacecraft. Find out more about today's landing here: https://t.co/GUGgOMQiYg pic.twitter.com/HfHHVnWhYc\n",
    "\n",
    "— U.S. Air Force (@usairforce) May 7, 2017\n",
    "“Οι τεχνολογίες που δοκιμάζονται στο πρόγραμμα περιλαμβάνουν προηγμένες οδηγίες καθοδήγησης, πλοήγησης και ελέγχου, συστήματα θερμικής προστασίας, αεροηλεκτρονικής, δομές και ασπίδες υψηλής θερμοκρασίας, συμβατική επαναχρησιμοποιήσιμη μόνωση, ελαφριά ηλεκτρομηχανολογικά συστήματα πτήσης, προηγμένα συστήματα πρόωσης, προηγμένα υλικά και αυτόνομη τροχιακή πτήση, προσγείωση.”\n",
    "\n",
    "Προς το παρόν, θα πρέπει είτε να αποδεχθείτε την επίσημη εξήγηση είτε απλώς να είστε άνετοι με το γεγονός ότι υπάρχει ένα μυστηριώδες διαστημικό σκάφος που πετάει ψηλά πάνω από το κεφάλι μας και μόνο ο στρατός των ΗΠΑ ξέρει γιατί.\n",
    "'''\n",
    "\n",
    "doc = nlp(test)\n",
    "doc.cats"
   ]
  },
  {
   "cell_type": "code",
   "execution_count": null,
   "metadata": {},
   "outputs": [],
   "source": []
  }
 ],
 "metadata": {
  "kernelspec": {
   "display_name": "Python 3",
   "language": "python",
   "name": "python3"
  },
  "language_info": {
   "codemirror_mode": {
    "name": "ipython",
    "version": 3
   },
   "file_extension": ".py",
   "mimetype": "text/x-python",
   "name": "python",
   "nbconvert_exporter": "python",
   "pygments_lexer": "ipython3",
   "version": "3.7.7"
  }
 },
 "nbformat": 4,
 "nbformat_minor": 4
}
